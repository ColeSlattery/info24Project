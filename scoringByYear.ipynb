{
 "cells": [
  {
   "cell_type": "code",
   "execution_count": 16,
   "metadata": {},
   "outputs": [],
   "source": [
    "import requests\n",
    "from bs4 import BeautifulSoup"
   ]
  },
  {
   "cell_type": "code",
   "execution_count": 17,
   "metadata": {},
   "outputs": [],
   "source": [
    "def getScoringForYear(year):\n",
    "    tmpReq=requests.get(\"https://www.basketball-reference.com/leagues/NBA_\"+year+\"_totals.html#totals_stats::pts\").text\n",
    "    tmpSoup=BeautifulSoup(tmpReq,'html')\n",
    "    tmpDict={}\n",
    "    tableOfPlayers=tmpSoup.findAll(class_ = 'full_table')\n",
    "    for player in tableOfPlayers:\n",
    "        tmpName=player.find(class_='left')['csk']\n",
    "        tmpPts=player.findAll(class_='right')[-1].text\n",
    "        tmpDict[tmpName]=int(tmpPts)\n",
    "        \n",
    "    return tmpDict\n",
    "    "
   ]
  },
  {
   "cell_type": "code",
   "execution_count": 18,
   "metadata": {},
   "outputs": [],
   "source": [
    "def sortedScoring(inDict=dict):\n",
    "    sorted_keys = sorted(inDict, key=inDict.get, reverse=True)\n",
    "    returnDict={}\n",
    "    for r in sorted_keys:\n",
    "        returnDict[r]=inDict[r]\n",
    "    return returnDict"
   ]
  },
  {
   "cell_type": "code",
   "execution_count": 19,
   "metadata": {},
   "outputs": [],
   "source": [
    "def getSortedScoring(year):\n",
    "    tmpReq=requests.get(\"https://www.basketball-reference.com/leagues/NBA_\"+year+\"_totals.html#totals_stats::pts\").text\n",
    "    tmpSoup=BeautifulSoup(tmpReq,'html')\n",
    "    tmpDict={}\n",
    "    tableOfPlayers=tmpSoup.findAll(class_ = 'full_table')\n",
    "    for player in tableOfPlayers:\n",
    "        tmpName=player.find(class_='left')['csk']\n",
    "        tmpPts=player.findAll(class_='right')[-1].text\n",
    "        tmpDict[tmpName]=int(tmpPts)\n",
    "    sorted_keys = sorted(tmpDict, key=tmpDict.get, reverse=True)\n",
    "    returnDict={}\n",
    "    for r in sorted_keys:\n",
    "        returnDict[r]=tmpDict[r]\n",
    "    return returnDict\n",
    "    "
   ]
  },
  {
   "cell_type": "markdown",
   "metadata": {},
   "source": []
  },
  {
   "cell_type": "code",
   "execution_count": 20,
   "metadata": {},
   "outputs": [],
   "source": [
    "scoring2014=getSortedScoring('2014')"
   ]
  },
  {
   "cell_type": "code",
   "execution_count": 21,
   "metadata": {},
   "outputs": [],
   "source": [
    "scoring2014\n",
    "\n",
    "\n",
    "for i, key in enumerate(scoring2014):\n",
    "    print(i, key, scoring2014[key])"
   ]
  },
  {
   "cell_type": "code",
   "execution_count": 22,
   "metadata": {},
   "outputs": [],
   "source": [
    "scoringLeaders={}\n",
    "for year in range(2000,2023):\n",
    "    tmpDict=getSortedScoring(str(year))\n",
    "    tmplist=list(tmpDict.keys())[0:9]\n",
    "    for item in tmpDict:\n",
    "        if item in scoringLeaders:\n",
    "            scoringLeaders[item]+=1\n",
    "        else:\n",
    "            scoringLeaders[item]=1"
   ]
  },
  {
   "cell_type": "code",
   "execution_count": 23,
   "metadata": {},
   "outputs": [],
   "source": [
    "scoringLeaders=sortedScoring(scoringLeaders)"
   ]
  },
  {
   "cell_type": "code",
   "execution_count": 24,
   "metadata": {},
   "outputs": [
    {
     "data": {
      "text/plain": [
       "{}"
      ]
     },
     "execution_count": 24,
     "metadata": {},
     "output_type": "execute_result"
    }
   ],
   "source": [
    "scoringLeaders"
   ]
  },
  {
   "cell_type": "code",
   "execution_count": null,
   "metadata": {},
   "outputs": [],
   "source": []
  }
 ],
 "metadata": {
  "kernelspec": {
   "display_name": "base",
   "language": "python",
   "name": "python3"
  },
  "language_info": {
   "codemirror_mode": {
    "name": "ipython",
    "version": 3
   },
   "file_extension": ".py",
   "mimetype": "text/x-python",
   "name": "python",
   "nbconvert_exporter": "python",
   "pygments_lexer": "ipython3",
   "version": "3.11.4"
  }
 },
 "nbformat": 4,
 "nbformat_minor": 2
}
