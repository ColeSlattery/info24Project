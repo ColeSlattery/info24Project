{
 "cells": [
  {
   "cell_type": "markdown",
   "metadata": {},
   "source": [
    "### **GUIDE**\n",
    "\n",
    "# ['resultSets'][]\n",
    "\n",
    "0 SeasonTotalsRegularSeason\n",
    "1 CareerTotalsRegularSeason\n",
    "2 SeasonTotalsPostSeason\n",
    "3 CareerTotalsPostSeason\n",
    "4 SeasonTotalsAllStarSeason\n",
    "5 CareerTotalsAllStarSeason\n",
    "6 SeasonTotalsCollegeSeason\n",
    "7 CareerTotalsCollegeSeason\n",
    "8 SeasonTotalsShowcaseSeason\n",
    "9 CareerTotalsShowcaseSeason\n",
    "10 SeasonRankingsRegularSeason\n",
    "11 SeasonRankingsPostSeason\n",
    "\n",
    "# ['rowSet']\n",
    "\n",
    "## num after in [] is index of season for reg seas\n",
    "\n",
    "# rowSets reg season\n",
    "\n",
    "0 PLAYER_ID\n",
    "1 SEASON_ID\n",
    "2 LEAGUE_ID\n",
    "3 TEAM_ID\n",
    "4 TEAM_ABBREVIATION\n",
    "5 PLAYER_AGE\n",
    "6 GP\n",
    "7 GS\n",
    "8 MIN\n",
    "9 FGM\n",
    "10 FGA\n",
    "11 FG_PCT\n",
    "12 FG3M\n",
    "13 FG3A\n",
    "14 FG3_PCT\n",
    "15 FTM\n",
    "16 FTA\n",
    "17 FT_PCT\n",
    "18 OREB\n",
    "19 DREB\n",
    "20 REB\n",
    "21 AST\n",
    "22 STL\n",
    "23 BLK\n",
    "24 TOV\n",
    "25 PF\n",
    "26 PTS\n",
    "\n",
    "carreer.get_dict['resultSets][numOfSet]['rowSet'][seasonPlayedIndex][rowSetindex]\n",
    "\n",
    "\n"
   ]
  },
  {
   "cell_type": "code",
   "execution_count": 109,
   "metadata": {},
   "outputs": [],
   "source": [
    "import math\n",
    "import collections\n",
    "import requests\n",
    "from bs4 import BeautifulSoup\n",
    "import numpy as np\n",
    "import pandas as pd\n",
    "import matplotlib.pyplot as pp\n",
    "import csv\n",
    "import json\n",
    "\n",
    "%matplotlib inline\n",
    "\n",
    "\n",
    "from nba_api.stats.endpoints import playercareerstats\n",
    "\n",
    "from nba_api.stats.endpoints import leaguegamefinder\n",
    "from nba_api.stats.static import teams"
   ]
  },
  {
   "cell_type": "code",
   "execution_count": 110,
   "metadata": {},
   "outputs": [
    {
     "name": "stdout",
     "output_type": "stream",
     "text": [
      "Requirement already satisfied: nba_api in /Users/coleslattery/anaconda3/lib/python3.11/site-packages (1.4.1)\n",
      "Requirement already satisfied: certifi<2024.0.0,>=2023.7.22 in /Users/coleslattery/anaconda3/lib/python3.11/site-packages (from nba_api) (2023.7.22)\n",
      "Requirement already satisfied: numpy<2.0.0,>=1.22.2 in /Users/coleslattery/anaconda3/lib/python3.11/site-packages (from nba_api) (1.24.3)\n",
      "Requirement already satisfied: requests<3.0,>=2.31 in /Users/coleslattery/anaconda3/lib/python3.11/site-packages (from nba_api) (2.31.0)\n",
      "Requirement already satisfied: charset-normalizer<4,>=2 in /Users/coleslattery/anaconda3/lib/python3.11/site-packages (from requests<3.0,>=2.31->nba_api) (2.0.4)\n",
      "Requirement already satisfied: idna<4,>=2.5 in /Users/coleslattery/anaconda3/lib/python3.11/site-packages (from requests<3.0,>=2.31->nba_api) (3.4)\n",
      "Requirement already satisfied: urllib3<3,>=1.21.1 in /Users/coleslattery/anaconda3/lib/python3.11/site-packages (from requests<3.0,>=2.31->nba_api) (1.26.16)\n",
      "Note: you may need to restart the kernel to use updated packages.\n"
     ]
    }
   ],
   "source": [
    "pip install nba_api"
   ]
  },
  {
   "cell_type": "code",
   "execution_count": 111,
   "metadata": {},
   "outputs": [],
   "source": [
    "nba_teams = teams.get_teams()\n"
   ]
  },
  {
   "cell_type": "code",
   "execution_count": 112,
   "metadata": {},
   "outputs": [],
   "source": [
    "def getSortedScoring(year):\n",
    "    tmpReq=requests.get(\"https://www.basketball-reference.com/leagues/NBA_\"+year+\"_totals.html#totals_stats::pts\").text\n",
    "    tmpSoup=BeautifulSoup(tmpReq,'html')\n",
    "    tmpDict={}\n",
    "    tableOfPlayers=tmpSoup.findAll(class_ = 'full_table')\n",
    "    for player in tableOfPlayers:\n",
    "        tmpName=player.find(class_='left')['csk']\n",
    "        tmpPts=player.findAll(class_='right')[-1].text\n",
    "        tmpDict[tmpName]=int(tmpPts)\n",
    "    sorted_keys = sorted(tmpDict, key=tmpDict.get, reverse=True)\n",
    "    returnDict={}\n",
    "    for r in sorted_keys:\n",
    "        returnDict[r]=tmpDict[r]\n",
    "    return returnDict\n",
    "    "
   ]
  },
  {
   "cell_type": "code",
   "execution_count": 113,
   "metadata": {},
   "outputs": [],
   "source": [
    "msList=list()\n",
    "with open('NBA_Player_IDs.csv', 'r') as f:\n",
    "    csvReader=csv.reader(f,delimiter=',')\n",
    "    for row in csvReader:\n",
    "        #print(row)\n",
    "        msList.append(row)\n",
    "nbaIds={}\n",
    "BBRIds={}\n",
    "for line in msList:\n",
    "    nbaIds[line[4]]=line[6]\n",
    "    BBRIds[line[0]]=line[2]\n"
   ]
  },
  {
   "cell_type": "code",
   "execution_count": 114,
   "metadata": {},
   "outputs": [],
   "source": [
    "def sortedScoring(inDict=dict):\n",
    "    sorted_keys = sorted(inDict, key=inDict.get, reverse=True)\n",
    "    returnDict={}\n",
    "    for r in sorted_keys:\n",
    "        returnDict[r]=inDict[r]\n",
    "    return returnDict"
   ]
  },
  {
   "cell_type": "code",
   "execution_count": 115,
   "metadata": {},
   "outputs": [],
   "source": [
    "scoringLeaders={}\n",
    "leadersYears={}\n",
    "scoringLeadersLyst1 = list(list())\n",
    "#leadersYears.setdefault('', [])\n",
    "for year in range(2000,2023):\n",
    "    tmpDict=getSortedScoring(str(year))\n",
    "    tmplist=list(tmpDict.keys())[0:10]\n",
    "    scoringLeadersLyst1.append(tmplist)\n",
    "    for item in tmpDict:\n",
    "        leadersYears.setdefault(item, [])\n",
    "        leadersYears[item].append(year)\n",
    "        if item in scoringLeaders:\n",
    "            scoringLeaders[item]+=1\n",
    "        else:\n",
    "            scoringLeaders[item]=1\n",
    "scoringLeaders=sortedScoring(scoringLeaders)"
   ]
  },
  {
   "cell_type": "code",
   "execution_count": null,
   "metadata": {},
   "outputs": [
    {
     "data": {
      "text/plain": [
       "\"O'Neal,Shaquille\""
      ]
     },
     "execution_count": 97,
     "metadata": {},
     "output_type": "execute_result"
    }
   ],
   "source": [
    "scoringLeadersLyst1[0]"
   ]
  },
  {
   "cell_type": "code",
   "execution_count": null,
   "metadata": {},
   "outputs": [
    {
     "data": {
      "text/plain": [
       "{}"
      ]
     },
     "execution_count": 90,
     "metadata": {},
     "output_type": "execute_result"
    }
   ],
   "source": [
    "scoringLeaders"
   ]
  },
  {
   "cell_type": "code",
   "execution_count": null,
   "metadata": {},
   "outputs": [
    {
     "data": {
      "text/plain": [
       "[2000,\n",
       " 2001,\n",
       " 2002,\n",
       " 2003,\n",
       " 2004,\n",
       " 2005,\n",
       " 2006,\n",
       " 2007,\n",
       " 2008,\n",
       " 2009,\n",
       " 2010,\n",
       " 2011,\n",
       " 2012,\n",
       " 2013,\n",
       " 2014,\n",
       " 2015,\n",
       " 2016,\n",
       " 2017,\n",
       " 2018,\n",
       " 2019,\n",
       " 2020]"
      ]
     },
     "execution_count": 20,
     "metadata": {},
     "output_type": "execute_result"
    }
   ],
   "source": [
    "leadersYears['Carter,Vince']"
   ]
  },
  {
   "cell_type": "code",
   "execution_count": null,
   "metadata": {},
   "outputs": [
    {
     "data": {
      "text/plain": [
       "['PLAYER_ID',\n",
       " 'SEASON_ID',\n",
       " 'LEAGUE_ID',\n",
       " 'TEAM_ID',\n",
       " 'TEAM_ABBREVIATION',\n",
       " 'PLAYER_AGE',\n",
       " 'GP',\n",
       " 'GS',\n",
       " 'MIN',\n",
       " 'FGM',\n",
       " 'FGA',\n",
       " 'FG_PCT',\n",
       " 'FG3M',\n",
       " 'FG3A',\n",
       " 'FG3_PCT',\n",
       " 'FTM',\n",
       " 'FTA',\n",
       " 'FT_PCT',\n",
       " 'OREB',\n",
       " 'DREB',\n",
       " 'REB',\n",
       " 'AST',\n",
       " 'STL',\n",
       " 'BLK',\n",
       " 'TOV',\n",
       " 'PF',\n",
       " 'PTS']"
      ]
     },
     "execution_count": 23,
     "metadata": {},
     "output_type": "execute_result"
    }
   ],
   "source": [
    "filename='carrerStats.csv'\n",
    "career = playercareerstats.PlayerCareerStats(player_id='203999') \n",
    "lystOfFields=list()\n",
    "for i,key in  enumerate(career.get_dict()['resultSets'][0]['headers']):\n",
    "    lystOfFields.append(key)\n",
    "    \n",
    "lystOfFields\n",
    "\n"
   ]
  },
  {
   "cell_type": "code",
   "execution_count": null,
   "metadata": {},
   "outputs": [
    {
     "name": "stdout",
     "output_type": "stream",
     "text": [
      "{'PLAYER_ID': 1628369, 'LEAGUE_ID': '00', 'TEAM_ID': 0, 'GP': 513, 'GS': 513, 'MIN': 17561.0, 'FGM': 4127, 'FGA': 8964, 'FG_PCT': 0.460397, 'FG3M': 1296, 'FG3A': 3453, 'FG3_PCT': 0.375325, 'FTM': 2302, 'FTA': 2727, 'FT_PCT': 0.844151, 'OREB': 464, 'DREB': 3206, 'REB': 3670, 'AST': 1812, 'STL': 563, 'BLK': 346, 'TOV': 1180, 'PF': 1075, 'PTS': 11852}\n"
     ]
    }
   ],
   "source": [
    "def careerStatsPlayerDict(playerID):\n",
    "    tmpCarreer = playercareerstats.PlayerCareerStats(playerID)\n",
    "    tmpStats=tmpCarreer.get_dict()['resultSets'][1]['rowSet'][0]\n",
    "    #print(tmpStats)\n",
    "    lystOfFields=list()\n",
    "\n",
    "    for i,key in  enumerate(career.get_dict()['resultSets'][1]['headers']):\n",
    "        #print(key)\n",
    "        lystOfFields.append(key)\n",
    "    tmpDict={}\n",
    "    ctr=0\n",
    "    for item in  tmpStats:\n",
    "        tmpDict[lystOfFields[ctr].upper()]=item\n",
    "        ctr+=1\n",
    "    return tmpDict\n",
    "\n",
    "tester=careerStatsPlayerDict(nbaIds['Jayson Tatum'])\n",
    "print(tester)"
   ]
  },
  {
   "cell_type": "code",
   "execution_count": null,
   "metadata": {},
   "outputs": [
    {
     "data": {
      "text/plain": [
       "<nba_api.stats.endpoints.playercareerstats.PlayerCareerStats at 0x15784f090>"
      ]
     },
     "execution_count": 57,
     "metadata": {},
     "output_type": "execute_result"
    }
   ],
   "source": [
    "tmpCarreer = playercareerstats.PlayerCareerStats(nbaIds['Jayson Tatum'])\n",
    "\n",
    "tmpCarreer"
   ]
  },
  {
   "cell_type": "code",
   "execution_count": null,
   "metadata": {},
   "outputs": [
    {
     "data": {
      "text/plain": [
       "{'PLAYER_ID': 1628369,\n",
       " 'LEAGUE_ID': '00',\n",
       " 'TEAM_ID': 0,\n",
       " 'GP': 513,\n",
       " 'GS': 513,\n",
       " 'MIN': 17561.0,\n",
       " 'FGM': 4127,\n",
       " 'FGA': 8964,\n",
       " 'FG_PCT': 0.460397,\n",
       " 'FG3M': 1296,\n",
       " 'FG3A': 3453,\n",
       " 'FG3_PCT': 0.375325,\n",
       " 'FTM': 2302,\n",
       " 'FTA': 2727,\n",
       " 'FT_PCT': 0.844151,\n",
       " 'OREB': 464,\n",
       " 'DREB': 3206,\n",
       " 'REB': 3670,\n",
       " 'AST': 1812,\n",
       " 'STL': 563,\n",
       " 'BLK': 346,\n",
       " 'TOV': 1180,\n",
       " 'PF': 1075,\n",
       " 'PTS': 11852}"
      ]
     },
     "execution_count": 58,
     "metadata": {},
     "output_type": "execute_result"
    }
   ],
   "source": [
    "careerStatsPlayerDict(nbaIds['Jayson Tatum'])"
   ]
  },
  {
   "cell_type": "code",
   "execution_count": null,
   "metadata": {},
   "outputs": [],
   "source": [
    "\n",
    "\n",
    "with open('test', 'w') as csvfile:\n",
    "    # creating a csv dict writer object\n",
    "    writer = csv.DictWriter(csvfile, fieldnames=lystOfFields)\n",
    "\n",
    "    # writing headers (field names)\n",
    "    writer.writeheader()\n",
    "\n",
    "    # writing data rows\n",
    "    for item in scoringLeadersLyst1:\n",
    "        for name in item:\n",
    "            tmpName= name.split(',')[1]+' '+name.split(',')[0]\n",
    "        if tmpName == 'Enes Freedom':\n",
    "            tmpName='Enes Kanter'\n",
    "        writer.writerow(careerStatsPlayerDict(nbaIds[tmpName]))"
   ]
  },
  {
   "cell_type": "code",
   "execution_count": null,
   "metadata": {},
   "outputs": [],
   "source": [
    "scoringLeadersLyst=list(scoringLeaders.keys())"
   ]
  },
  {
   "cell_type": "code",
   "execution_count": null,
   "metadata": {},
   "outputs": [
    {
     "name": "stdout",
     "output_type": "stream",
     "text": [
      "Vince Carter\n"
     ]
    }
   ],
   "source": [
    "print(scoringLeadersLyst[0].split(',')[1], scoringLeadersLyst[0].split(',')[0])"
   ]
  },
  {
   "cell_type": "code",
   "execution_count": null,
   "metadata": {},
   "outputs": [
    {
     "ename": "ConnectionError",
     "evalue": "('Connection aborted.', RemoteDisconnected('Remote end closed connection without response'))",
     "output_type": "error",
     "traceback": [
      "\u001b[0;31m---------------------------------------------------------------------------\u001b[0m",
      "\u001b[0;31mRemoteDisconnected\u001b[0m                        Traceback (most recent call last)",
      "File \u001b[0;32m~/anaconda3/lib/python3.11/site-packages/urllib3/connectionpool.py:714\u001b[0m, in \u001b[0;36mHTTPConnectionPool.urlopen\u001b[0;34m(self, method, url, body, headers, retries, redirect, assert_same_host, timeout, pool_timeout, release_conn, chunked, body_pos, **response_kw)\u001b[0m\n\u001b[1;32m    713\u001b[0m \u001b[38;5;66;03m# Make the request on the httplib connection object.\u001b[39;00m\n\u001b[0;32m--> 714\u001b[0m httplib_response \u001b[38;5;241m=\u001b[39m \u001b[38;5;28mself\u001b[39m\u001b[38;5;241m.\u001b[39m_make_request(\n\u001b[1;32m    715\u001b[0m     conn,\n\u001b[1;32m    716\u001b[0m     method,\n\u001b[1;32m    717\u001b[0m     url,\n\u001b[1;32m    718\u001b[0m     timeout\u001b[38;5;241m=\u001b[39mtimeout_obj,\n\u001b[1;32m    719\u001b[0m     body\u001b[38;5;241m=\u001b[39mbody,\n\u001b[1;32m    720\u001b[0m     headers\u001b[38;5;241m=\u001b[39mheaders,\n\u001b[1;32m    721\u001b[0m     chunked\u001b[38;5;241m=\u001b[39mchunked,\n\u001b[1;32m    722\u001b[0m )\n\u001b[1;32m    724\u001b[0m \u001b[38;5;66;03m# If we're going to release the connection in ``finally:``, then\u001b[39;00m\n\u001b[1;32m    725\u001b[0m \u001b[38;5;66;03m# the response doesn't need to know about the connection. Otherwise\u001b[39;00m\n\u001b[1;32m    726\u001b[0m \u001b[38;5;66;03m# it will also try to release it and we'll have a double-release\u001b[39;00m\n\u001b[1;32m    727\u001b[0m \u001b[38;5;66;03m# mess.\u001b[39;00m\n",
      "File \u001b[0;32m~/anaconda3/lib/python3.11/site-packages/urllib3/connectionpool.py:466\u001b[0m, in \u001b[0;36mHTTPConnectionPool._make_request\u001b[0;34m(self, conn, method, url, timeout, chunked, **httplib_request_kw)\u001b[0m\n\u001b[1;32m    462\u001b[0m         \u001b[38;5;28;01mexcept\u001b[39;00m \u001b[38;5;167;01mBaseException\u001b[39;00m \u001b[38;5;28;01mas\u001b[39;00m e:\n\u001b[1;32m    463\u001b[0m             \u001b[38;5;66;03m# Remove the TypeError from the exception chain in\u001b[39;00m\n\u001b[1;32m    464\u001b[0m             \u001b[38;5;66;03m# Python 3 (including for exceptions like SystemExit).\u001b[39;00m\n\u001b[1;32m    465\u001b[0m             \u001b[38;5;66;03m# Otherwise it looks like a bug in the code.\u001b[39;00m\n\u001b[0;32m--> 466\u001b[0m             six\u001b[38;5;241m.\u001b[39mraise_from(e, \u001b[38;5;28;01mNone\u001b[39;00m)\n\u001b[1;32m    467\u001b[0m \u001b[38;5;28;01mexcept\u001b[39;00m (SocketTimeout, BaseSSLError, SocketError) \u001b[38;5;28;01mas\u001b[39;00m e:\n",
      "File \u001b[0;32m<string>:3\u001b[0m, in \u001b[0;36mraise_from\u001b[0;34m(value, from_value)\u001b[0m\n",
      "File \u001b[0;32m~/anaconda3/lib/python3.11/site-packages/urllib3/connectionpool.py:461\u001b[0m, in \u001b[0;36mHTTPConnectionPool._make_request\u001b[0;34m(self, conn, method, url, timeout, chunked, **httplib_request_kw)\u001b[0m\n\u001b[1;32m    460\u001b[0m \u001b[38;5;28;01mtry\u001b[39;00m:\n\u001b[0;32m--> 461\u001b[0m     httplib_response \u001b[38;5;241m=\u001b[39m conn\u001b[38;5;241m.\u001b[39mgetresponse()\n\u001b[1;32m    462\u001b[0m \u001b[38;5;28;01mexcept\u001b[39;00m \u001b[38;5;167;01mBaseException\u001b[39;00m \u001b[38;5;28;01mas\u001b[39;00m e:\n\u001b[1;32m    463\u001b[0m     \u001b[38;5;66;03m# Remove the TypeError from the exception chain in\u001b[39;00m\n\u001b[1;32m    464\u001b[0m     \u001b[38;5;66;03m# Python 3 (including for exceptions like SystemExit).\u001b[39;00m\n\u001b[1;32m    465\u001b[0m     \u001b[38;5;66;03m# Otherwise it looks like a bug in the code.\u001b[39;00m\n",
      "File \u001b[0;32m~/anaconda3/lib/python3.11/http/client.py:1378\u001b[0m, in \u001b[0;36mHTTPConnection.getresponse\u001b[0;34m(self)\u001b[0m\n\u001b[1;32m   1377\u001b[0m \u001b[38;5;28;01mtry\u001b[39;00m:\n\u001b[0;32m-> 1378\u001b[0m     response\u001b[38;5;241m.\u001b[39mbegin()\n\u001b[1;32m   1379\u001b[0m \u001b[38;5;28;01mexcept\u001b[39;00m \u001b[38;5;167;01mConnectionError\u001b[39;00m:\n",
      "File \u001b[0;32m~/anaconda3/lib/python3.11/http/client.py:318\u001b[0m, in \u001b[0;36mHTTPResponse.begin\u001b[0;34m(self)\u001b[0m\n\u001b[1;32m    317\u001b[0m \u001b[38;5;28;01mwhile\u001b[39;00m \u001b[38;5;28;01mTrue\u001b[39;00m:\n\u001b[0;32m--> 318\u001b[0m     version, status, reason \u001b[38;5;241m=\u001b[39m \u001b[38;5;28mself\u001b[39m\u001b[38;5;241m.\u001b[39m_read_status()\n\u001b[1;32m    319\u001b[0m     \u001b[38;5;28;01mif\u001b[39;00m status \u001b[38;5;241m!=\u001b[39m CONTINUE:\n",
      "File \u001b[0;32m~/anaconda3/lib/python3.11/http/client.py:287\u001b[0m, in \u001b[0;36mHTTPResponse._read_status\u001b[0;34m(self)\u001b[0m\n\u001b[1;32m    284\u001b[0m \u001b[38;5;28;01mif\u001b[39;00m \u001b[38;5;129;01mnot\u001b[39;00m line:\n\u001b[1;32m    285\u001b[0m     \u001b[38;5;66;03m# Presumably, the server closed the connection before\u001b[39;00m\n\u001b[1;32m    286\u001b[0m     \u001b[38;5;66;03m# sending a valid response.\u001b[39;00m\n\u001b[0;32m--> 287\u001b[0m     \u001b[38;5;28;01mraise\u001b[39;00m RemoteDisconnected(\u001b[38;5;124m\"\u001b[39m\u001b[38;5;124mRemote end closed connection without\u001b[39m\u001b[38;5;124m\"\u001b[39m\n\u001b[1;32m    288\u001b[0m                              \u001b[38;5;124m\"\u001b[39m\u001b[38;5;124m response\u001b[39m\u001b[38;5;124m\"\u001b[39m)\n\u001b[1;32m    289\u001b[0m \u001b[38;5;28;01mtry\u001b[39;00m:\n",
      "\u001b[0;31mRemoteDisconnected\u001b[0m: Remote end closed connection without response",
      "\nDuring handling of the above exception, another exception occurred:\n",
      "\u001b[0;31mProtocolError\u001b[0m                             Traceback (most recent call last)",
      "File \u001b[0;32m~/anaconda3/lib/python3.11/site-packages/requests/adapters.py:486\u001b[0m, in \u001b[0;36mHTTPAdapter.send\u001b[0;34m(self, request, stream, timeout, verify, cert, proxies)\u001b[0m\n\u001b[1;32m    485\u001b[0m \u001b[38;5;28;01mtry\u001b[39;00m:\n\u001b[0;32m--> 486\u001b[0m     resp \u001b[38;5;241m=\u001b[39m conn\u001b[38;5;241m.\u001b[39murlopen(\n\u001b[1;32m    487\u001b[0m         method\u001b[38;5;241m=\u001b[39mrequest\u001b[38;5;241m.\u001b[39mmethod,\n\u001b[1;32m    488\u001b[0m         url\u001b[38;5;241m=\u001b[39murl,\n\u001b[1;32m    489\u001b[0m         body\u001b[38;5;241m=\u001b[39mrequest\u001b[38;5;241m.\u001b[39mbody,\n\u001b[1;32m    490\u001b[0m         headers\u001b[38;5;241m=\u001b[39mrequest\u001b[38;5;241m.\u001b[39mheaders,\n\u001b[1;32m    491\u001b[0m         redirect\u001b[38;5;241m=\u001b[39m\u001b[38;5;28;01mFalse\u001b[39;00m,\n\u001b[1;32m    492\u001b[0m         assert_same_host\u001b[38;5;241m=\u001b[39m\u001b[38;5;28;01mFalse\u001b[39;00m,\n\u001b[1;32m    493\u001b[0m         preload_content\u001b[38;5;241m=\u001b[39m\u001b[38;5;28;01mFalse\u001b[39;00m,\n\u001b[1;32m    494\u001b[0m         decode_content\u001b[38;5;241m=\u001b[39m\u001b[38;5;28;01mFalse\u001b[39;00m,\n\u001b[1;32m    495\u001b[0m         retries\u001b[38;5;241m=\u001b[39m\u001b[38;5;28mself\u001b[39m\u001b[38;5;241m.\u001b[39mmax_retries,\n\u001b[1;32m    496\u001b[0m         timeout\u001b[38;5;241m=\u001b[39mtimeout,\n\u001b[1;32m    497\u001b[0m         chunked\u001b[38;5;241m=\u001b[39mchunked,\n\u001b[1;32m    498\u001b[0m     )\n\u001b[1;32m    500\u001b[0m \u001b[38;5;28;01mexcept\u001b[39;00m (ProtocolError, \u001b[38;5;167;01mOSError\u001b[39;00m) \u001b[38;5;28;01mas\u001b[39;00m err:\n",
      "File \u001b[0;32m~/anaconda3/lib/python3.11/site-packages/urllib3/connectionpool.py:798\u001b[0m, in \u001b[0;36mHTTPConnectionPool.urlopen\u001b[0;34m(self, method, url, body, headers, retries, redirect, assert_same_host, timeout, pool_timeout, release_conn, chunked, body_pos, **response_kw)\u001b[0m\n\u001b[1;32m    796\u001b[0m     e \u001b[38;5;241m=\u001b[39m ProtocolError(\u001b[38;5;124m\"\u001b[39m\u001b[38;5;124mConnection aborted.\u001b[39m\u001b[38;5;124m\"\u001b[39m, e)\n\u001b[0;32m--> 798\u001b[0m retries \u001b[38;5;241m=\u001b[39m retries\u001b[38;5;241m.\u001b[39mincrement(\n\u001b[1;32m    799\u001b[0m     method, url, error\u001b[38;5;241m=\u001b[39me, _pool\u001b[38;5;241m=\u001b[39m\u001b[38;5;28mself\u001b[39m, _stacktrace\u001b[38;5;241m=\u001b[39msys\u001b[38;5;241m.\u001b[39mexc_info()[\u001b[38;5;241m2\u001b[39m]\n\u001b[1;32m    800\u001b[0m )\n\u001b[1;32m    801\u001b[0m retries\u001b[38;5;241m.\u001b[39msleep()\n",
      "File \u001b[0;32m~/anaconda3/lib/python3.11/site-packages/urllib3/util/retry.py:550\u001b[0m, in \u001b[0;36mRetry.increment\u001b[0;34m(self, method, url, response, error, _pool, _stacktrace)\u001b[0m\n\u001b[1;32m    549\u001b[0m \u001b[38;5;28;01mif\u001b[39;00m read \u001b[38;5;129;01mis\u001b[39;00m \u001b[38;5;28;01mFalse\u001b[39;00m \u001b[38;5;129;01mor\u001b[39;00m \u001b[38;5;129;01mnot\u001b[39;00m \u001b[38;5;28mself\u001b[39m\u001b[38;5;241m.\u001b[39m_is_method_retryable(method):\n\u001b[0;32m--> 550\u001b[0m     \u001b[38;5;28;01mraise\u001b[39;00m six\u001b[38;5;241m.\u001b[39mreraise(\u001b[38;5;28mtype\u001b[39m(error), error, _stacktrace)\n\u001b[1;32m    551\u001b[0m \u001b[38;5;28;01melif\u001b[39;00m read \u001b[38;5;129;01mis\u001b[39;00m \u001b[38;5;129;01mnot\u001b[39;00m \u001b[38;5;28;01mNone\u001b[39;00m:\n",
      "File \u001b[0;32m~/anaconda3/lib/python3.11/site-packages/urllib3/packages/six.py:769\u001b[0m, in \u001b[0;36mreraise\u001b[0;34m(tp, value, tb)\u001b[0m\n\u001b[1;32m    768\u001b[0m \u001b[38;5;28;01mif\u001b[39;00m value\u001b[38;5;241m.\u001b[39m__traceback__ \u001b[38;5;129;01mis\u001b[39;00m \u001b[38;5;129;01mnot\u001b[39;00m tb:\n\u001b[0;32m--> 769\u001b[0m     \u001b[38;5;28;01mraise\u001b[39;00m value\u001b[38;5;241m.\u001b[39mwith_traceback(tb)\n\u001b[1;32m    770\u001b[0m \u001b[38;5;28;01mraise\u001b[39;00m value\n",
      "File \u001b[0;32m~/anaconda3/lib/python3.11/site-packages/urllib3/connectionpool.py:714\u001b[0m, in \u001b[0;36mHTTPConnectionPool.urlopen\u001b[0;34m(self, method, url, body, headers, retries, redirect, assert_same_host, timeout, pool_timeout, release_conn, chunked, body_pos, **response_kw)\u001b[0m\n\u001b[1;32m    713\u001b[0m \u001b[38;5;66;03m# Make the request on the httplib connection object.\u001b[39;00m\n\u001b[0;32m--> 714\u001b[0m httplib_response \u001b[38;5;241m=\u001b[39m \u001b[38;5;28mself\u001b[39m\u001b[38;5;241m.\u001b[39m_make_request(\n\u001b[1;32m    715\u001b[0m     conn,\n\u001b[1;32m    716\u001b[0m     method,\n\u001b[1;32m    717\u001b[0m     url,\n\u001b[1;32m    718\u001b[0m     timeout\u001b[38;5;241m=\u001b[39mtimeout_obj,\n\u001b[1;32m    719\u001b[0m     body\u001b[38;5;241m=\u001b[39mbody,\n\u001b[1;32m    720\u001b[0m     headers\u001b[38;5;241m=\u001b[39mheaders,\n\u001b[1;32m    721\u001b[0m     chunked\u001b[38;5;241m=\u001b[39mchunked,\n\u001b[1;32m    722\u001b[0m )\n\u001b[1;32m    724\u001b[0m \u001b[38;5;66;03m# If we're going to release the connection in ``finally:``, then\u001b[39;00m\n\u001b[1;32m    725\u001b[0m \u001b[38;5;66;03m# the response doesn't need to know about the connection. Otherwise\u001b[39;00m\n\u001b[1;32m    726\u001b[0m \u001b[38;5;66;03m# it will also try to release it and we'll have a double-release\u001b[39;00m\n\u001b[1;32m    727\u001b[0m \u001b[38;5;66;03m# mess.\u001b[39;00m\n",
      "File \u001b[0;32m~/anaconda3/lib/python3.11/site-packages/urllib3/connectionpool.py:466\u001b[0m, in \u001b[0;36mHTTPConnectionPool._make_request\u001b[0;34m(self, conn, method, url, timeout, chunked, **httplib_request_kw)\u001b[0m\n\u001b[1;32m    462\u001b[0m         \u001b[38;5;28;01mexcept\u001b[39;00m \u001b[38;5;167;01mBaseException\u001b[39;00m \u001b[38;5;28;01mas\u001b[39;00m e:\n\u001b[1;32m    463\u001b[0m             \u001b[38;5;66;03m# Remove the TypeError from the exception chain in\u001b[39;00m\n\u001b[1;32m    464\u001b[0m             \u001b[38;5;66;03m# Python 3 (including for exceptions like SystemExit).\u001b[39;00m\n\u001b[1;32m    465\u001b[0m             \u001b[38;5;66;03m# Otherwise it looks like a bug in the code.\u001b[39;00m\n\u001b[0;32m--> 466\u001b[0m             six\u001b[38;5;241m.\u001b[39mraise_from(e, \u001b[38;5;28;01mNone\u001b[39;00m)\n\u001b[1;32m    467\u001b[0m \u001b[38;5;28;01mexcept\u001b[39;00m (SocketTimeout, BaseSSLError, SocketError) \u001b[38;5;28;01mas\u001b[39;00m e:\n",
      "File \u001b[0;32m<string>:3\u001b[0m, in \u001b[0;36mraise_from\u001b[0;34m(value, from_value)\u001b[0m\n",
      "File \u001b[0;32m~/anaconda3/lib/python3.11/site-packages/urllib3/connectionpool.py:461\u001b[0m, in \u001b[0;36mHTTPConnectionPool._make_request\u001b[0;34m(self, conn, method, url, timeout, chunked, **httplib_request_kw)\u001b[0m\n\u001b[1;32m    460\u001b[0m \u001b[38;5;28;01mtry\u001b[39;00m:\n\u001b[0;32m--> 461\u001b[0m     httplib_response \u001b[38;5;241m=\u001b[39m conn\u001b[38;5;241m.\u001b[39mgetresponse()\n\u001b[1;32m    462\u001b[0m \u001b[38;5;28;01mexcept\u001b[39;00m \u001b[38;5;167;01mBaseException\u001b[39;00m \u001b[38;5;28;01mas\u001b[39;00m e:\n\u001b[1;32m    463\u001b[0m     \u001b[38;5;66;03m# Remove the TypeError from the exception chain in\u001b[39;00m\n\u001b[1;32m    464\u001b[0m     \u001b[38;5;66;03m# Python 3 (including for exceptions like SystemExit).\u001b[39;00m\n\u001b[1;32m    465\u001b[0m     \u001b[38;5;66;03m# Otherwise it looks like a bug in the code.\u001b[39;00m\n",
      "File \u001b[0;32m~/anaconda3/lib/python3.11/http/client.py:1378\u001b[0m, in \u001b[0;36mHTTPConnection.getresponse\u001b[0;34m(self)\u001b[0m\n\u001b[1;32m   1377\u001b[0m \u001b[38;5;28;01mtry\u001b[39;00m:\n\u001b[0;32m-> 1378\u001b[0m     response\u001b[38;5;241m.\u001b[39mbegin()\n\u001b[1;32m   1379\u001b[0m \u001b[38;5;28;01mexcept\u001b[39;00m \u001b[38;5;167;01mConnectionError\u001b[39;00m:\n",
      "File \u001b[0;32m~/anaconda3/lib/python3.11/http/client.py:318\u001b[0m, in \u001b[0;36mHTTPResponse.begin\u001b[0;34m(self)\u001b[0m\n\u001b[1;32m    317\u001b[0m \u001b[38;5;28;01mwhile\u001b[39;00m \u001b[38;5;28;01mTrue\u001b[39;00m:\n\u001b[0;32m--> 318\u001b[0m     version, status, reason \u001b[38;5;241m=\u001b[39m \u001b[38;5;28mself\u001b[39m\u001b[38;5;241m.\u001b[39m_read_status()\n\u001b[1;32m    319\u001b[0m     \u001b[38;5;28;01mif\u001b[39;00m status \u001b[38;5;241m!=\u001b[39m CONTINUE:\n",
      "File \u001b[0;32m~/anaconda3/lib/python3.11/http/client.py:287\u001b[0m, in \u001b[0;36mHTTPResponse._read_status\u001b[0;34m(self)\u001b[0m\n\u001b[1;32m    284\u001b[0m \u001b[38;5;28;01mif\u001b[39;00m \u001b[38;5;129;01mnot\u001b[39;00m line:\n\u001b[1;32m    285\u001b[0m     \u001b[38;5;66;03m# Presumably, the server closed the connection before\u001b[39;00m\n\u001b[1;32m    286\u001b[0m     \u001b[38;5;66;03m# sending a valid response.\u001b[39;00m\n\u001b[0;32m--> 287\u001b[0m     \u001b[38;5;28;01mraise\u001b[39;00m RemoteDisconnected(\u001b[38;5;124m\"\u001b[39m\u001b[38;5;124mRemote end closed connection without\u001b[39m\u001b[38;5;124m\"\u001b[39m\n\u001b[1;32m    288\u001b[0m                              \u001b[38;5;124m\"\u001b[39m\u001b[38;5;124m response\u001b[39m\u001b[38;5;124m\"\u001b[39m)\n\u001b[1;32m    289\u001b[0m \u001b[38;5;28;01mtry\u001b[39;00m:\n",
      "\u001b[0;31mProtocolError\u001b[0m: ('Connection aborted.', RemoteDisconnected('Remote end closed connection without response'))",
      "\nDuring handling of the above exception, another exception occurred:\n",
      "\u001b[0;31mConnectionError\u001b[0m                           Traceback (most recent call last)",
      "Cell \u001b[0;32mIn[108], line 17\u001b[0m\n\u001b[1;32m     15\u001b[0m \u001b[38;5;28;01mfor\u001b[39;00m char \u001b[38;5;129;01min\u001b[39;00m name:    \n\u001b[1;32m     16\u001b[0m     \u001b[38;5;28;01mif\u001b[39;00m char\u001b[38;5;241m.\u001b[39misalpha() \u001b[38;5;241m==\u001b[39m \u001b[38;5;28;01mTrue\u001b[39;00m \u001b[38;5;129;01mor\u001b[39;00m char \u001b[38;5;241m==\u001b[39m \u001b[38;5;124m'\u001b[39m\u001b[38;5;124m \u001b[39m\u001b[38;5;124m'\u001b[39m:\n\u001b[0;32m---> 17\u001b[0m         writer\u001b[38;5;241m.\u001b[39mwriterow(careerStatsPlayerDict(nbaIds[tmpName]))\n",
      "Cell \u001b[0;32mIn[56], line 2\u001b[0m, in \u001b[0;36mcareerStatsPlayerDict\u001b[0;34m(playerID)\u001b[0m\n\u001b[1;32m      1\u001b[0m \u001b[38;5;28;01mdef\u001b[39;00m \u001b[38;5;21mcareerStatsPlayerDict\u001b[39m(playerID):\n\u001b[0;32m----> 2\u001b[0m     tmpCarreer \u001b[38;5;241m=\u001b[39m playercareerstats\u001b[38;5;241m.\u001b[39mPlayerCareerStats(playerID)\n\u001b[1;32m      3\u001b[0m     tmpStats\u001b[38;5;241m=\u001b[39mtmpCarreer\u001b[38;5;241m.\u001b[39mget_dict()[\u001b[38;5;124m'\u001b[39m\u001b[38;5;124mresultSets\u001b[39m\u001b[38;5;124m'\u001b[39m][\u001b[38;5;241m1\u001b[39m][\u001b[38;5;124m'\u001b[39m\u001b[38;5;124mrowSet\u001b[39m\u001b[38;5;124m'\u001b[39m][\u001b[38;5;241m0\u001b[39m]\n\u001b[1;32m      4\u001b[0m     \u001b[38;5;66;03m#print(tmpStats)\u001b[39;00m\n",
      "File \u001b[0;32m~/anaconda3/lib/python3.11/site-packages/nba_api/stats/endpoints/playercareerstats.py:315\u001b[0m, in \u001b[0;36mPlayerCareerStats.__init__\u001b[0;34m(self, player_id, per_mode36, league_id_nullable, proxy, headers, timeout, get_request)\u001b[0m\n\u001b[1;32m    309\u001b[0m \u001b[38;5;28mself\u001b[39m\u001b[38;5;241m.\u001b[39mparameters \u001b[38;5;241m=\u001b[39m {\n\u001b[1;32m    310\u001b[0m     \u001b[38;5;124m\"\u001b[39m\u001b[38;5;124mPlayerID\u001b[39m\u001b[38;5;124m\"\u001b[39m: player_id,\n\u001b[1;32m    311\u001b[0m     \u001b[38;5;124m\"\u001b[39m\u001b[38;5;124mPerMode\u001b[39m\u001b[38;5;124m\"\u001b[39m: per_mode36,\n\u001b[1;32m    312\u001b[0m     \u001b[38;5;124m\"\u001b[39m\u001b[38;5;124mLeagueID\u001b[39m\u001b[38;5;124m\"\u001b[39m: league_id_nullable,\n\u001b[1;32m    313\u001b[0m }\n\u001b[1;32m    314\u001b[0m \u001b[38;5;28;01mif\u001b[39;00m get_request:\n\u001b[0;32m--> 315\u001b[0m     \u001b[38;5;28mself\u001b[39m\u001b[38;5;241m.\u001b[39mget_request()\n",
      "File \u001b[0;32m~/anaconda3/lib/python3.11/site-packages/nba_api/stats/endpoints/playercareerstats.py:318\u001b[0m, in \u001b[0;36mPlayerCareerStats.get_request\u001b[0;34m(self)\u001b[0m\n\u001b[1;32m    317\u001b[0m \u001b[38;5;28;01mdef\u001b[39;00m \u001b[38;5;21mget_request\u001b[39m(\u001b[38;5;28mself\u001b[39m):\n\u001b[0;32m--> 318\u001b[0m     \u001b[38;5;28mself\u001b[39m\u001b[38;5;241m.\u001b[39mnba_response \u001b[38;5;241m=\u001b[39m NBAStatsHTTP()\u001b[38;5;241m.\u001b[39msend_api_request(\n\u001b[1;32m    319\u001b[0m         endpoint\u001b[38;5;241m=\u001b[39m\u001b[38;5;28mself\u001b[39m\u001b[38;5;241m.\u001b[39mendpoint,\n\u001b[1;32m    320\u001b[0m         parameters\u001b[38;5;241m=\u001b[39m\u001b[38;5;28mself\u001b[39m\u001b[38;5;241m.\u001b[39mparameters,\n\u001b[1;32m    321\u001b[0m         proxy\u001b[38;5;241m=\u001b[39m\u001b[38;5;28mself\u001b[39m\u001b[38;5;241m.\u001b[39mproxy,\n\u001b[1;32m    322\u001b[0m         headers\u001b[38;5;241m=\u001b[39m\u001b[38;5;28mself\u001b[39m\u001b[38;5;241m.\u001b[39mheaders,\n\u001b[1;32m    323\u001b[0m         timeout\u001b[38;5;241m=\u001b[39m\u001b[38;5;28mself\u001b[39m\u001b[38;5;241m.\u001b[39mtimeout,\n\u001b[1;32m    324\u001b[0m     )\n\u001b[1;32m    325\u001b[0m     \u001b[38;5;28mself\u001b[39m\u001b[38;5;241m.\u001b[39mload_response()\n",
      "File \u001b[0;32m~/anaconda3/lib/python3.11/site-packages/nba_api/library/http.py:146\u001b[0m, in \u001b[0;36mNBAHTTP.send_api_request\u001b[0;34m(self, endpoint, parameters, referer, proxy, headers, timeout, raise_exception_on_error)\u001b[0m\n\u001b[1;32m    143\u001b[0m         \u001b[38;5;28mprint\u001b[39m(\u001b[38;5;124m\"\u001b[39m\u001b[38;5;124mloading from file...\u001b[39m\u001b[38;5;124m\"\u001b[39m)\n\u001b[1;32m    145\u001b[0m \u001b[38;5;28;01mif\u001b[39;00m \u001b[38;5;129;01mnot\u001b[39;00m contents:\n\u001b[0;32m--> 146\u001b[0m     response \u001b[38;5;241m=\u001b[39m requests\u001b[38;5;241m.\u001b[39mget(\n\u001b[1;32m    147\u001b[0m         url\u001b[38;5;241m=\u001b[39mbase_url,\n\u001b[1;32m    148\u001b[0m         params\u001b[38;5;241m=\u001b[39mparameters,\n\u001b[1;32m    149\u001b[0m         headers\u001b[38;5;241m=\u001b[39mrequest_headers,\n\u001b[1;32m    150\u001b[0m         proxies\u001b[38;5;241m=\u001b[39mproxies,\n\u001b[1;32m    151\u001b[0m         timeout\u001b[38;5;241m=\u001b[39mtimeout,\n\u001b[1;32m    152\u001b[0m     )\n\u001b[1;32m    153\u001b[0m     url \u001b[38;5;241m=\u001b[39m response\u001b[38;5;241m.\u001b[39murl\n\u001b[1;32m    154\u001b[0m     status_code \u001b[38;5;241m=\u001b[39m response\u001b[38;5;241m.\u001b[39mstatus_code\n",
      "File \u001b[0;32m~/anaconda3/lib/python3.11/site-packages/requests/api.py:73\u001b[0m, in \u001b[0;36mget\u001b[0;34m(url, params, **kwargs)\u001b[0m\n\u001b[1;32m     62\u001b[0m \u001b[38;5;28;01mdef\u001b[39;00m \u001b[38;5;21mget\u001b[39m(url, params\u001b[38;5;241m=\u001b[39m\u001b[38;5;28;01mNone\u001b[39;00m, \u001b[38;5;241m*\u001b[39m\u001b[38;5;241m*\u001b[39mkwargs):\n\u001b[1;32m     63\u001b[0m \u001b[38;5;250m    \u001b[39m\u001b[38;5;124mr\u001b[39m\u001b[38;5;124;03m\"\"\"Sends a GET request.\u001b[39;00m\n\u001b[1;32m     64\u001b[0m \n\u001b[1;32m     65\u001b[0m \u001b[38;5;124;03m    :param url: URL for the new :class:`Request` object.\u001b[39;00m\n\u001b[0;32m   (...)\u001b[0m\n\u001b[1;32m     70\u001b[0m \u001b[38;5;124;03m    :rtype: requests.Response\u001b[39;00m\n\u001b[1;32m     71\u001b[0m \u001b[38;5;124;03m    \"\"\"\u001b[39;00m\n\u001b[0;32m---> 73\u001b[0m     \u001b[38;5;28;01mreturn\u001b[39;00m request(\u001b[38;5;124m\"\u001b[39m\u001b[38;5;124mget\u001b[39m\u001b[38;5;124m\"\u001b[39m, url, params\u001b[38;5;241m=\u001b[39mparams, \u001b[38;5;241m*\u001b[39m\u001b[38;5;241m*\u001b[39mkwargs)\n",
      "File \u001b[0;32m~/anaconda3/lib/python3.11/site-packages/requests/api.py:59\u001b[0m, in \u001b[0;36mrequest\u001b[0;34m(method, url, **kwargs)\u001b[0m\n\u001b[1;32m     55\u001b[0m \u001b[38;5;66;03m# By using the 'with' statement we are sure the session is closed, thus we\u001b[39;00m\n\u001b[1;32m     56\u001b[0m \u001b[38;5;66;03m# avoid leaving sockets open which can trigger a ResourceWarning in some\u001b[39;00m\n\u001b[1;32m     57\u001b[0m \u001b[38;5;66;03m# cases, and look like a memory leak in others.\u001b[39;00m\n\u001b[1;32m     58\u001b[0m \u001b[38;5;28;01mwith\u001b[39;00m sessions\u001b[38;5;241m.\u001b[39mSession() \u001b[38;5;28;01mas\u001b[39;00m session:\n\u001b[0;32m---> 59\u001b[0m     \u001b[38;5;28;01mreturn\u001b[39;00m session\u001b[38;5;241m.\u001b[39mrequest(method\u001b[38;5;241m=\u001b[39mmethod, url\u001b[38;5;241m=\u001b[39murl, \u001b[38;5;241m*\u001b[39m\u001b[38;5;241m*\u001b[39mkwargs)\n",
      "File \u001b[0;32m~/anaconda3/lib/python3.11/site-packages/requests/sessions.py:589\u001b[0m, in \u001b[0;36mSession.request\u001b[0;34m(self, method, url, params, data, headers, cookies, files, auth, timeout, allow_redirects, proxies, hooks, stream, verify, cert, json)\u001b[0m\n\u001b[1;32m    584\u001b[0m send_kwargs \u001b[38;5;241m=\u001b[39m {\n\u001b[1;32m    585\u001b[0m     \u001b[38;5;124m\"\u001b[39m\u001b[38;5;124mtimeout\u001b[39m\u001b[38;5;124m\"\u001b[39m: timeout,\n\u001b[1;32m    586\u001b[0m     \u001b[38;5;124m\"\u001b[39m\u001b[38;5;124mallow_redirects\u001b[39m\u001b[38;5;124m\"\u001b[39m: allow_redirects,\n\u001b[1;32m    587\u001b[0m }\n\u001b[1;32m    588\u001b[0m send_kwargs\u001b[38;5;241m.\u001b[39mupdate(settings)\n\u001b[0;32m--> 589\u001b[0m resp \u001b[38;5;241m=\u001b[39m \u001b[38;5;28mself\u001b[39m\u001b[38;5;241m.\u001b[39msend(prep, \u001b[38;5;241m*\u001b[39m\u001b[38;5;241m*\u001b[39msend_kwargs)\n\u001b[1;32m    591\u001b[0m \u001b[38;5;28;01mreturn\u001b[39;00m resp\n",
      "File \u001b[0;32m~/anaconda3/lib/python3.11/site-packages/requests/sessions.py:703\u001b[0m, in \u001b[0;36mSession.send\u001b[0;34m(self, request, **kwargs)\u001b[0m\n\u001b[1;32m    700\u001b[0m start \u001b[38;5;241m=\u001b[39m preferred_clock()\n\u001b[1;32m    702\u001b[0m \u001b[38;5;66;03m# Send the request\u001b[39;00m\n\u001b[0;32m--> 703\u001b[0m r \u001b[38;5;241m=\u001b[39m adapter\u001b[38;5;241m.\u001b[39msend(request, \u001b[38;5;241m*\u001b[39m\u001b[38;5;241m*\u001b[39mkwargs)\n\u001b[1;32m    705\u001b[0m \u001b[38;5;66;03m# Total elapsed time of the request (approximately)\u001b[39;00m\n\u001b[1;32m    706\u001b[0m elapsed \u001b[38;5;241m=\u001b[39m preferred_clock() \u001b[38;5;241m-\u001b[39m start\n",
      "File \u001b[0;32m~/anaconda3/lib/python3.11/site-packages/requests/adapters.py:501\u001b[0m, in \u001b[0;36mHTTPAdapter.send\u001b[0;34m(self, request, stream, timeout, verify, cert, proxies)\u001b[0m\n\u001b[1;32m    486\u001b[0m     resp \u001b[38;5;241m=\u001b[39m conn\u001b[38;5;241m.\u001b[39murlopen(\n\u001b[1;32m    487\u001b[0m         method\u001b[38;5;241m=\u001b[39mrequest\u001b[38;5;241m.\u001b[39mmethod,\n\u001b[1;32m    488\u001b[0m         url\u001b[38;5;241m=\u001b[39murl,\n\u001b[0;32m   (...)\u001b[0m\n\u001b[1;32m    497\u001b[0m         chunked\u001b[38;5;241m=\u001b[39mchunked,\n\u001b[1;32m    498\u001b[0m     )\n\u001b[1;32m    500\u001b[0m \u001b[38;5;28;01mexcept\u001b[39;00m (ProtocolError, \u001b[38;5;167;01mOSError\u001b[39;00m) \u001b[38;5;28;01mas\u001b[39;00m err:\n\u001b[0;32m--> 501\u001b[0m     \u001b[38;5;28;01mraise\u001b[39;00m \u001b[38;5;167;01mConnectionError\u001b[39;00m(err, request\u001b[38;5;241m=\u001b[39mrequest)\n\u001b[1;32m    503\u001b[0m \u001b[38;5;28;01mexcept\u001b[39;00m MaxRetryError \u001b[38;5;28;01mas\u001b[39;00m e:\n\u001b[1;32m    504\u001b[0m     \u001b[38;5;28;01mif\u001b[39;00m \u001b[38;5;28misinstance\u001b[39m(e\u001b[38;5;241m.\u001b[39mreason, ConnectTimeoutError):\n\u001b[1;32m    505\u001b[0m         \u001b[38;5;66;03m# TODO: Remove this in 3.0.0: see #2811\u001b[39;00m\n",
      "\u001b[0;31mConnectionError\u001b[0m: ('Connection aborted.', RemoteDisconnected('Remote end closed connection without response'))"
     ]
    }
   ],
   "source": [
    "with open('carrerStatsRegSeas1.csv', 'w') as csvfile:\n",
    "    # creating a csv dict writer object\n",
    "    writer = csv.DictWriter(csvfile, fieldnames=lystOfFields)\n",
    "\n",
    "    # writing headers (field names)\n",
    "    writer.writeheader()\n",
    "\n",
    "    # writing data rows\n",
    "    for item in scoringLeadersLyst1:\n",
    "        for name in item:\n",
    "            tmpName= name\n",
    "            tmpName= name.split(',')[1]+' '+name.split(',')[0]\n",
    "            if tmpName == 'Enes Freedom':\n",
    "                tmpName='Enes Kanter'\n",
    "            for char in name:    \n",
    "                if char.isalpha() == True or char == ' ':\n",
    "                    writer.writerow(careerStatsPlayerDict(nbaIds[tmpName]))\n",
    "                    \n",
    "                    \n",
    "       "
   ]
  },
  {
   "cell_type": "code",
   "execution_count": null,
   "metadata": {},
   "outputs": [
    {
     "name": "stdout",
     "output_type": "stream",
     "text": [
      "Shaquille O'Neal\n",
      "Vince Carter\n",
      "Karl Malone\n",
      "Allen Iverson\n",
      "Gary Payton\n",
      "Jerry Stackhouse\n",
      "Grant Hill\n",
      "Kevin Garnett\n",
      "Michael Finley\n",
      "Chris Webber\n",
      "Jerry Stackhouse\n",
      "Allen Iverson\n",
      "Shaquille O'Neal\n",
      "Paul Pierce\n",
      "Vince Carter\n",
      "Tracy McGrady\n",
      "Antawn Jamison\n",
      "Kobe Bryant\n",
      "Chris Webber\n",
      "Antoine Walker\n",
      "Paul Pierce\n",
      "Tim Duncan\n",
      "Kobe Bryant\n",
      "Tracy McGrady\n",
      "Allen Iverson\n",
      "Shaquille O'Neal\n",
      "Gary Payton\n",
      "Antoine Walker\n",
      "Karl Malone\n",
      "Dirk Nowitzki\n",
      "Kobe Bryant\n",
      "Tracy McGrady\n",
      "Allen Iverson\n",
      "Paul Pierce\n",
      "Dirk Nowitzki\n",
      "Tim Duncan\n",
      "Kevin Garnett\n",
      "Allan Houston\n",
      "Shaquille O'Neal\n",
      "Antawn Jamison\n",
      "Kevin Garnett\n",
      "Peja StojakoviÄ\n",
      "Tracy McGrady\n",
      "Paul Pierce\n",
      "Michael Redd\n",
      "Carmelo Anthony\n",
      "Dirk Nowitzki\n",
      "LeBron James\n",
      "Vince Carter\n",
      "Stephon Marbury\n",
      "Allen Iverson\n",
      "LeBron James\n",
      "Amar'e Stoudemire\n",
      "Gilbert Arenas\n",
      "Dirk Nowitzki\n",
      "Tracy McGrady\n",
      "Vince Carter\n",
      "Ray Allen\n",
      "Dwyane Wade\n",
      "Kobe Bryant\n",
      "Kobe Bryant\n",
      "LeBron James\n",
      "Allen Iverson\n",
      "Gilbert Arenas\n",
      "Dirk Nowitzki\n",
      "Carmelo Anthony\n",
      "Paul Pierce\n",
      "Dwyane Wade\n",
      "Michael Redd\n",
      "Ray Allen\n",
      "Kobe Bryant\n",
      "LeBron James\n",
      "Gilbert Arenas\n",
      "Vince Carter\n",
      "Dirk Nowitzki\n",
      "Carmelo Anthony\n",
      "Ben Gordon\n",
      "Tracy McGrady\n",
      "Allen Iverson\n",
      "Kevin Garnett\n",
      "Kobe Bryant\n",
      "LeBron James\n",
      "Allen Iverson\n",
      "Amar'e Stoudemire\n",
      "Carmelo Anthony\n",
      "Richard Jefferson\n",
      "Dirk Nowitzki\n",
      "Baron Davis\n",
      "Jason Richardson\n",
      "Joe Johnson\n",
      "Dwyane Wade\n",
      "LeBron James\n",
      "Kobe Bryant\n",
      "Dirk Nowitzki\n",
      "Kevin Durant\n",
      "Antawn Jamison\n",
      "Chris Paul\n",
      "Brandon Roy\n",
      "Chris Bosh\n",
      "Danny Granger\n",
      "Kevin Durant\n",
      "LeBron James\n",
      "Dwyane Wade\n",
      "Dirk Nowitzki\n",
      "Kobe Bryant\n",
      "Carmelo Anthony\n",
      "Amar'e Stoudemire\n",
      "Zach Randolph\n",
      "Chris Bosh\n",
      "Stephen Jackson\n",
      "Kevin Durant\n",
      "LeBron James\n",
      "Kobe Bryant\n",
      "Derrick Rose\n",
      "Amar'e Stoudemire\n",
      "Carmelo Anthony\n",
      "Dwyane Wade\n",
      "Monta Ellis\n",
      "Kevin Martin\n",
      "Blake Griffin\n",
      "Kevin Durant\n",
      "LeBron James\n",
      "Kobe Bryant\n",
      "Russell Westbrook\n",
      "Kevin Love\n",
      "Blake Griffin\n",
      "Dirk Nowitzki\n",
      "Brandon Jennings\n",
      "Carmelo Anthony\n",
      "Josh Smith\n",
      "Kevin Durant\n",
      "Kobe Bryant\n",
      "LeBron James\n",
      "James Harden\n",
      "Carmelo Anthony\n",
      "Russell Westbrook\n",
      "Stephen Curry\n",
      "Monta Ellis\n",
      "Damian Lillard\n",
      "LaMarcus Aldridge\n",
      "Kevin Durant\n",
      "Carmelo Anthony\n",
      "LeBron James\n",
      "Kevin Love\n",
      "Blake Griffin\n",
      "Stephen Curry\n",
      "James Harden\n",
      "DeMar DeRozan\n",
      "Paul George\n",
      "Dirk Nowitzki\n",
      "James Harden\n",
      "Stephen Curry\n",
      "Russell Westbrook\n",
      "LeBron James\n",
      "Damian Lillard\n",
      "Klay Thompson\n",
      "LaMarcus Aldridge\n",
      "Anthony Davis\n",
      "Kyrie Irving\n",
      "Chris Paul\n",
      "James Harden\n",
      "Stephen Curry\n",
      "Kevin Durant\n",
      "LeBron James\n",
      "Damian Lillard\n",
      "Russell Westbrook\n",
      "Paul George\n",
      "DeMar DeRozan\n",
      "Isaiah Thomas\n",
      "Klay Thompson\n",
      "Russell Westbrook\n",
      "James Harden\n",
      "Isaiah Thomas\n",
      "Anthony Davis\n",
      "Karl-Anthony Towns\n",
      "Damian Lillard\n",
      "DeMar DeRozan\n",
      "Stephen Curry\n",
      "LeBron James\n",
      "DeMarcus Cousins\n",
      "LeBron James\n",
      "James Harden\n",
      "Anthony Davis\n",
      "Russell Westbrook\n",
      "Giannis Antetokounmpo\n",
      "Damian Lillard\n",
      "Bradley Beal\n",
      "DeMar DeRozan\n",
      "Kevin Durant\n",
      "Lou Williams\n",
      "James Harden\n",
      "Paul George\n",
      "Kemba Walker\n",
      "Bradley Beal\n",
      "Damian Lillard\n",
      "Kevin Durant\n",
      "Giannis Antetokounmpo\n",
      "Stephen Curry\n",
      "Karl-Anthony Towns\n",
      "Blake Griffin\n",
      "James Harden\n",
      "Damian Lillard\n",
      "Devin Booker\n",
      "Giannis Antetokounmpo\n",
      "Trae Young\n",
      "Luka DonÄiÄ\n",
      "Bradley Beal\n",
      "LeBron James\n",
      "Donovan Mitchell\n",
      "Anthony Davis\n",
      "Stephen Curry\n",
      "Damian Lillard\n",
      "Nikola JokiÄ\n",
      "Bradley Beal\n",
      "Luka DonÄiÄ\n",
      "Giannis Antetokounmpo\n",
      "Devin Booker\n",
      "Julius Randle\n",
      "Jayson Tatum\n",
      "Zion Williamson\n",
      "Trae Young\n",
      "DeMar DeRozan\n",
      "Joel Embiid\n",
      "Jayson Tatum\n",
      "Nikola JokiÄ\n",
      "Giannis Antetokounmpo\n",
      "Luka DonÄiÄ\n",
      "Devin Booker\n",
      "Karl-Anthony Towns\n",
      "Donovan Mitchell\n"
     ]
    }
   ],
   "source": [
    "for item in scoringLeadersLyst1:\n",
    "    for name in item:\n",
    "        tmpName= name.split(',')[1]+' '+name.split(',')[0]\n",
    "        if tmpName == 'Enes Freedom':\n",
    "            tmpName='Enes Kanter'\n",
    "        print(tmpName)\n",
    "       "
   ]
  },
  {
   "cell_type": "code",
   "execution_count": null,
   "metadata": {},
   "outputs": [],
   "source": []
  }
 ],
 "metadata": {
  "kernelspec": {
   "display_name": "base",
   "language": "python",
   "name": "python3"
  },
  "language_info": {
   "codemirror_mode": {
    "name": "ipython",
    "version": 3
   },
   "file_extension": ".py",
   "mimetype": "text/x-python",
   "name": "python",
   "nbconvert_exporter": "python",
   "pygments_lexer": "ipython3",
   "version": "3.11.4"
  }
 },
 "nbformat": 4,
 "nbformat_minor": 2
}
