{
 "cells": [
  {
   "cell_type": "markdown",
   "metadata": {},
   "source": [
    "### **GUIDE**\n",
    "\n",
    "# ['resultSets'][]\n",
    "\n",
    "0 SeasonTotalsRegularSeason\n",
    "1 CareerTotalsRegularSeason\n",
    "2 SeasonTotalsPostSeason\n",
    "3 CareerTotalsPostSeason\n",
    "4 SeasonTotalsAllStarSeason\n",
    "5 CareerTotalsAllStarSeason\n",
    "6 SeasonTotalsCollegeSeason\n",
    "7 CareerTotalsCollegeSeason\n",
    "8 SeasonTotalsShowcaseSeason\n",
    "9 CareerTotalsShowcaseSeason\n",
    "10 SeasonRankingsRegularSeason\n",
    "11 SeasonRankingsPostSeason\n",
    "\n",
    "# ['rowSet']\n",
    "\n",
    "## num after in [] is index of season\n",
    "\n",
    "# rowSets\n",
    "\n",
    "0 PLAYER_ID\n",
    "1 SEASON_ID\n",
    "2 LEAGUE_ID\n",
    "3 TEAM_ID\n",
    "4 TEAM_ABBREVIATION\n",
    "5 PLAYER_AGE\n",
    "6 GP\n",
    "7 GS\n",
    "8 MIN\n",
    "9 FGM\n",
    "10 FGA\n",
    "11 FG_PCT\n",
    "12 FG3M\n",
    "13 FG3A\n",
    "14 FG3_PCT\n",
    "15 FTM\n",
    "16 FTA\n",
    "17 FT_PCT\n",
    "18 OREB\n",
    "19 DREB\n",
    "20 REB\n",
    "21 AST\n",
    "22 STL\n",
    "23 BLK\n",
    "24 TOV\n",
    "25 PF\n",
    "26 PTS\n",
    "\n",
    "carreer.get_dict['resultSets][numOfSet]['rowSet'][seasonPlayedIndex][rowSetindex]\n",
    "\n",
    "\n"
   ]
  },
  {
   "cell_type": "code",
   "execution_count": 13,
   "metadata": {},
   "outputs": [],
   "source": [
    "import math\n",
    "import collections\n",
    "import requests\n",
    "from bs4 import BeautifulSoup\n",
    "import numpy as np\n",
    "import pandas as pd\n",
    "import matplotlib.pyplot as pp\n",
    "import csv\n",
    "import json\n",
    "\n",
    "%matplotlib inline\n",
    "\n",
    "\n",
    "from nba_api.stats.endpoints import playercareerstats\n",
    "\n",
    "from nba_api.stats.endpoints import leaguegamefinder\n",
    "from nba_api.stats.static import teams"
   ]
  },
  {
   "cell_type": "code",
   "execution_count": 14,
   "metadata": {},
   "outputs": [
    {
     "name": "stdout",
     "output_type": "stream",
     "text": [
      "Requirement already satisfied: nba_api in /Users/coleslattery/anaconda3/lib/python3.11/site-packages (1.4.1)\n",
      "Requirement already satisfied: certifi<2024.0.0,>=2023.7.22 in /Users/coleslattery/anaconda3/lib/python3.11/site-packages (from nba_api) (2023.7.22)\n",
      "Requirement already satisfied: numpy<2.0.0,>=1.22.2 in /Users/coleslattery/anaconda3/lib/python3.11/site-packages (from nba_api) (1.24.3)\n",
      "Requirement already satisfied: requests<3.0,>=2.31 in /Users/coleslattery/anaconda3/lib/python3.11/site-packages (from nba_api) (2.31.0)\n",
      "Requirement already satisfied: charset-normalizer<4,>=2 in /Users/coleslattery/anaconda3/lib/python3.11/site-packages (from requests<3.0,>=2.31->nba_api) (2.0.4)\n",
      "Requirement already satisfied: idna<4,>=2.5 in /Users/coleslattery/anaconda3/lib/python3.11/site-packages (from requests<3.0,>=2.31->nba_api) (3.4)\n",
      "Requirement already satisfied: urllib3<3,>=1.21.1 in /Users/coleslattery/anaconda3/lib/python3.11/site-packages (from requests<3.0,>=2.31->nba_api) (1.26.16)\n",
      "Note: you may need to restart the kernel to use updated packages.\n"
     ]
    }
   ],
   "source": [
    "pip install nba_api"
   ]
  },
  {
   "cell_type": "code",
   "execution_count": 15,
   "metadata": {},
   "outputs": [],
   "source": [
    "nba_teams = teams.get_teams()\n"
   ]
  },
  {
   "cell_type": "code",
   "execution_count": 50,
   "metadata": {},
   "outputs": [],
   "source": [
    "def getSortedScoring(year):\n",
    "    tmpReq=requests.get(\"https://www.basketball-reference.com/leagues/NBA_\"+year+\"_totals.html#totals_stats::pts\").text\n",
    "    tmpSoup=BeautifulSoup(tmpReq,'html')\n",
    "    tmpDict={}\n",
    "    tableOfPlayers=tmpSoup.findAll(class_ = 'full_table')\n",
    "    for player in tableOfPlayers:\n",
    "        tmpName=player.find(class_='left')['csk']\n",
    "        tmpPts=player.findAll(class_='right')[-1].text\n",
    "        tmpDict[tmpName]=int(tmpPts)\n",
    "    sorted_keys = sorted(tmpDict, key=tmpDict.get, reverse=True)\n",
    "    returnDict={}\n",
    "    for r in sorted_keys:\n",
    "        returnDict[r]=tmpDict[r]\n",
    "    return returnDict\n",
    "    "
   ]
  },
  {
   "cell_type": "code",
   "execution_count": 51,
   "metadata": {},
   "outputs": [],
   "source": [
    "msList=list()\n",
    "with open('NBA_Player_IDs.csv', 'r') as f:\n",
    "    csvReader=csv.reader(f,delimiter=',')\n",
    "    for row in csvReader:\n",
    "        #print(row)\n",
    "        msList.append(row)\n",
    "nbaIds={}\n",
    "BBRIds={}\n",
    "for line in msList:\n",
    "    nbaIds[line[4]]=line[6]\n",
    "    BBRIds[line[0]]=line[2]\n"
   ]
  },
  {
   "cell_type": "code",
   "execution_count": 52,
   "metadata": {},
   "outputs": [],
   "source": [
    "def sortedScoring(inDict=dict):\n",
    "    sorted_keys = sorted(inDict, key=inDict.get, reverse=True)\n",
    "    returnDict={}\n",
    "    for r in sorted_keys:\n",
    "        returnDict[r]=inDict[r]\n",
    "    return returnDict"
   ]
  },
  {
   "cell_type": "code",
   "execution_count": 53,
   "metadata": {},
   "outputs": [],
   "source": [
    "scoringLeaders={}\n",
    "leadersYears={}\n",
    "#leadersYears.setdefault('', [])\n",
    "for year in range(2000,2023):\n",
    "    tmpDict=getSortedScoring(str(year))\n",
    "    tmplist=list(tmpDict.keys())[0:9]\n",
    "    for item in tmpDict:\n",
    "        if item in scoringLeaders:\n",
    "            scoringLeaders[item]+=1\n",
    "        else:\n",
    "            scoringLeaders[item]=1\n",
    "scoringLeaders=sortedScoring(scoringLeaders)"
   ]
  },
  {
   "cell_type": "code",
   "execution_count": 54,
   "metadata": {},
   "outputs": [
    {
     "data": {
      "text/plain": [
       "{}"
      ]
     },
     "execution_count": 54,
     "metadata": {},
     "output_type": "execute_result"
    }
   ],
   "source": [
    "scoringLeaders"
   ]
  },
  {
   "cell_type": "code",
   "execution_count": 42,
   "metadata": {},
   "outputs": [],
   "source": [
    "for year in range(2000,2023):\n",
    "    tmpDict=getSortedScoring(str(year))\n",
    "    tmplist=list(tmpDict.keys())[0:9]\n",
    "    for item in tmpDict:\n",
    "        leadersYears[item]=1"
   ]
  },
  {
   "cell_type": "code",
   "execution_count": 43,
   "metadata": {},
   "outputs": [
    {
     "data": {
      "text/plain": [
       "{}"
      ]
     },
     "execution_count": 43,
     "metadata": {},
     "output_type": "execute_result"
    }
   ],
   "source": [
    "leadersYears"
   ]
  },
  {
   "cell_type": "code",
   "execution_count": null,
   "metadata": {},
   "outputs": [],
   "source": []
  },
  {
   "cell_type": "code",
   "execution_count": null,
   "metadata": {},
   "outputs": [],
   "source": []
  }
 ],
 "metadata": {
  "kernelspec": {
   "display_name": "base",
   "language": "python",
   "name": "python3"
  },
  "language_info": {
   "codemirror_mode": {
    "name": "ipython",
    "version": 3
   },
   "file_extension": ".py",
   "mimetype": "text/x-python",
   "name": "python",
   "nbconvert_exporter": "python",
   "pygments_lexer": "ipython3",
   "version": "3.11.4"
  }
 },
 "nbformat": 4,
 "nbformat_minor": 2
}
